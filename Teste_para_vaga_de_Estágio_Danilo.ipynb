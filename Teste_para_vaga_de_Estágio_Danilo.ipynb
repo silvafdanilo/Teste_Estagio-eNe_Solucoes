{
  "nbformat": 4,
  "nbformat_minor": 0,
  "metadata": {
    "colab": {
      "provenance": [],
      "authorship_tag": "ABX9TyOqCWUBfh5SgLcmg1sUrEQz",
      "include_colab_link": true
    },
    "kernelspec": {
      "name": "python3",
      "display_name": "Python 3"
    },
    "language_info": {
      "name": "python"
    }
  },
  "cells": [
    {
      "cell_type": "markdown",
      "metadata": {
        "id": "view-in-github",
        "colab_type": "text"
      },
      "source": [
        "<a href=\"https://colab.research.google.com/github/silvafdanilo/Teste_Estagio-eNe_Solucoes/blob/main/Teste_para_vaga_de_Est%C3%A1gio_Danilo.ipynb\" target=\"_parent\"><img src=\"https://colab.research.google.com/assets/colab-badge.svg\" alt=\"Open In Colab\"/></a>"
      ]
    },
    {
      "cell_type": "markdown",
      "source": [
        "# **Teste Estágio - eNe Soluções**\n",
        "\n",
        "O teste consiste em dois cenários ao qual é solicitado a criação de algoritmos conforme as seguintes situações abaixo:\n"
      ],
      "metadata": {
        "id": "eh4sH4gqy8K8"
      }
    },
    {
      "cell_type": "markdown",
      "source": [
        "## **Situações**"
      ],
      "metadata": {
        "id": "Ip0fAWt2zvgK"
      }
    },
    {
      "cell_type": "code",
      "source": [
        "!python --version ou !python -V"
      ],
      "metadata": {
        "colab": {
          "base_uri": "https://localhost:8080/"
        },
        "id": "hn9oq9iPr8V_",
        "outputId": "45488e87-7402-4cc7-82bd-0caf4ed5b642"
      },
      "execution_count": null,
      "outputs": [
        {
          "output_type": "stream",
          "name": "stdout",
          "text": [
            "Python 3.9.16\n"
          ]
        }
      ]
    },
    {
      "cell_type": "markdown",
      "source": [
        "###1 - Crie um algoritmo que leia a idade de uma pessoa expressa em anos, meses e dias e mostre-a expressa apenas em dias. Explique/descreva o raciocínio que você teve para resolver o problema."
      ],
      "metadata": {
        "id": "BMsbsKqIx_5V"
      }
    },
    {
      "cell_type": "code",
      "source": [
        "print(\"Ler idade expressa em anos, meses e dias.\\n\")\n",
        "\n",
        "def return_anos():\n",
        "    anos = input(\"Digite os anos: \")\n",
        "    try: \n",
        "        return int(anos)\n",
        "    except ValueError as err: # formato inválido\n",
        "        print('Formato inválido, tente novamente!')\n",
        "    return return_anos() # repete a pergunta\n",
        "\n",
        "def return_meses():\n",
        "    meses = input(\"Digite os meses: \")\n",
        "    try: \n",
        "        return int(meses)\n",
        "    except ValueError as err: # formato inválido\n",
        "        print('Formato inválido, tente novamente!')\n",
        "    return return_meses() # repete a pergunta\n",
        "\n",
        "def return_dias():\n",
        "    dias = input(\"Digite os dias: \")\n",
        "    try: \n",
        "        return int(dias)\n",
        "    except ValueError as err: # formato inválido\n",
        "        print('Formato inválido, tente novamente!')\n",
        "    return return_dias() # repete a pergunta    \n",
        "\n",
        "anos = return_anos()\n",
        "meses = return_meses()\n",
        "dias = return_dias()\n",
        "\n",
        "resultado = anos*365 + meses*30 + dias\n",
        "\n",
        "print(\"\\nVocê tem %d dias de idade!\" % resultado)"
      ],
      "metadata": {
        "colab": {
          "base_uri": "https://localhost:8080/"
        },
        "id": "H9bN5-PtYJ6j",
        "outputId": "93f2b10a-b208-47dd-c65b-4642c09a30e1"
      },
      "execution_count": 5,
      "outputs": [
        {
          "output_type": "stream",
          "name": "stdout",
          "text": [
            "Ler idade expressa em anos, meses e dias.\n",
            "\n",
            "Digite os anos: 26\n",
            "Digite os meses: 6\n",
            "Digite os dias: 12\n",
            "\n",
            "Você tem 9682 dias de idade!\n"
          ]
        }
      ]
    },
    {
      "cell_type": "markdown",
      "source": [
        "**📝 Descrição do Raciocínio para resolver o problema:**\n",
        "\n",
        "Inicialmente o usuário estará preenchendo os dados para o cálculo de sua idade em dias.\n",
        "\n",
        "Ao deparar que existia a possibilidade de inserir valores que não são números inteiros, criei funções para tratamento de exceções. Assim evitando entradas inválidas como por exemplo *strings*. A decisão de criar uma função para cada dado de entrada, deu-se pelo fato de que o usuário só descreve o próximo dado a partir do momento que escrever corretamente o anterior, pois, sem esse método ao errar os últimos dados ele teria que retornar ao início novamente, esse procedimento pode trazer facilidade com que os usuários lidam com a ferramenta.\n",
        "\n",
        "A partir do momento em que os dados estão corretos, são armazenados em suas respectivas varíaveis *ano*, *meses* e *dias* e em uma varíavel *resultado* produzido o cálculo para a soma dos dias. \n",
        "\n",
        "A calculo foi feito considerando que um ano contém 365 dias e um mês contém 30 dias, através dessas informações foram feitos os seguintes cálculos:\n",
        "\n",
        "\n",
        "*   quantidade de anos multiplicado por 365;\n",
        "*   somando;\n",
        "*   quantidade de meses multiplicado por 30;\n",
        "*   somando;\n",
        "*   quantidade de dias;\n",
        "\n",
        "Após feito o cálculo é impresso o resultado da soma.\n",
        "\n"
      ],
      "metadata": {
        "id": "6VfWXg5p0Yfg"
      }
    },
    {
      "cell_type": "markdown",
      "source": [
        "###2 - Faça um algoritmo que leia as 3 notas de um aluno e calcule a média final deste aluno. Considere que a média é ponderada e que o peso das notas é: 2,3 e 5, respectivamente."
      ],
      "metadata": {
        "id": "mX90euI0yn0_"
      }
    },
    {
      "cell_type": "code",
      "source": [
        "print(\"Ler as 3 notas de um aluno e calcular a média final deste aluno considerando a média ponderada com pesos 2,3 e 5, respectivamente .\\n\")\n",
        "\n",
        "def return_nota1():\n",
        "    nota1 = input(\"Digite a nota 1: \")\n",
        "    try: \n",
        "        return float(nota1)\n",
        "    except ValueError as err: # formato inválido\n",
        "        print('Formato inválido, tente novamente!')\n",
        "    return return_nota1() # repete a pergunta\n",
        "\n",
        "def return_nota2():\n",
        "    nota2 = input(\"Digite a nota 2: \")\n",
        "    try: \n",
        "        return float(nota2)\n",
        "    except ValueError as err: # formato inválido\n",
        "        print('Formato inválido, tente novamente!')\n",
        "    return return_nota2() # repete a pergunta\n",
        "\n",
        "def return_nota3():\n",
        "    nota3 = input(\"Digite a nota 3: \")\n",
        "    try: \n",
        "        return float(nota3)\n",
        "    except ValueError as err: # formato inválido\n",
        "        print('Formato inválido, tente novamente!')\n",
        "    return return_nota3() # repete a pergunta\n",
        "\n",
        "nota1 = return_nota1()\n",
        "nota2 = return_nota2()\n",
        "nota3 = return_nota3()\n",
        "\n",
        "media = ((nota1*2) + (nota2*3) + (nota3*5))/(2+3+5)\n",
        "\n",
        "print(\"A média final do aluno é: %.2f\" % media)"
      ],
      "metadata": {
        "colab": {
          "base_uri": "https://localhost:8080/"
        },
        "id": "82vWXTN_crWH",
        "outputId": "9bbf75da-9e11-4339-c62b-7f17473bfab1"
      },
      "execution_count": null,
      "outputs": [
        {
          "output_type": "stream",
          "name": "stdout",
          "text": [
            "Ler as 3 notas de um aluno e calcular a média final deste aluno considerando a média ponderada com pesos 2,3 e 5, respectivamente .\n",
            "\n",
            "Digite a nota 1: 5.9\n",
            "Digite a nota 2: 2.6\n",
            "Digite a nota 3: 7.9\n",
            "A média final do aluno é: 5.91\n"
          ]
        }
      ]
    },
    {
      "cell_type": "markdown",
      "source": [
        "**📝 Descrição do Raciocínio para resolver o problema:**\n",
        "\n",
        "Inicialmente o usuário estará preenchendo os dados para o cálculo da média ponderada das notas do aluno.\n",
        "\n",
        "Ao deparar que existia a possibilidade de inserir valores que não são números inteiros ou racionais, criei funções para tratamento de exceções. Assim evitando entradas inválidas como por exemplo *strings*. A decisão de criar uma função para cada dado de entrada, deu-se pelo fato de que o usuário só descreve o próximo dado a partir do momento que escrever corretamente o anterior, pois, sem esse método ao errar os últimos dados ele teria que retornar ao início novamente, esse procedimento pode trazer facilidade com que os usuários lidam com a ferramenta.\n",
        "\n",
        "A partir do momento em que os dados estão corretos, são armazenados em suas respectivas varíaveis *nota1*, *nota2* e *nota3* e em uma varíavel *media* produzido o cálculo para a média ponderada das três notas com seus respectivos pesos. \n",
        "\n",
        "Segue a descrição da média ponderada:\n",
        "\n",
        "\n",
        "*   nota 1 multiplicado por peso 2;\n",
        "*   somando;\n",
        "*   nota 2 multiplicado por peso 3;\n",
        "*   somando;\n",
        "*   nota 3 multiplicado por peso 5;\n",
        "*   divide o resultado da soma pela soma dos pesos (*2+3+5*);\n",
        "\n",
        "\n",
        "Após feito o cálculo é impresso o resultado da média ponderada."
      ],
      "metadata": {
        "id": "W3iyts0n00aP"
      }
    }
  ]
}